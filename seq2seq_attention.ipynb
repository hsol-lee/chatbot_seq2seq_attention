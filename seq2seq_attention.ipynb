{
 "cells": [
  {
   "cell_type": "markdown",
   "metadata": {},
   "source": [
    "## 1. Data Load"
   ]
  },
  {
   "cell_type": "code",
   "execution_count": 1,
   "metadata": {},
   "outputs": [],
   "source": [
    "import pandas as pd\n",
    "import tensorflow as tf\n",
    "import enum\n",
    "import os\n",
    "import re\n",
    "from sklearn.model_selection import train_test_split\n",
    "import numpy as np\n",
    "from configs import DEFINES\n",
    "\n",
    "PAD = \"<PAD>\"\n",
    "STD = \"<SOS>\"\n",
    "END = \"<END>\"\n",
    "UNK = \"<UNK>\"\n",
    "\n",
    "MARKER = [PAD, STD, END, UNK]\n",
    "\n",
    "\"\"\"\n",
    "load_data(): 데이터를 읽고 트레이닝 셋과 테스트 셋으로 분리\n",
    "train_q: 트레이닝용 질문 데이터\n",
    "train_a: 트레이닝용 대답 데이터\n",
    "test_q: 테스트용 질문 데이터\n",
    "test_a: 테스트용 대답 데이터\n",
    "output: train_q, train_a, test_q, test_a\n",
    "\"\"\"\n",
    "\n",
    "def load_data():\n",
    "\n",
    "    data_df = pd.read_csv(DEFINES.data_path, header=0)\n",
    "    question, answer = list(data_df['Q']), list(data_df['A'])\n",
    "    train_q, test_q, train_a, test_a = train_test_split(question, answer, test_size=0.33,\n",
    "                                                                        random_state=42)\n",
    "    return train_q, train_a, test_q, test_a\n"
   ]
  },
  {
   "cell_type": "code",
   "execution_count": 2,
   "metadata": {},
   "outputs": [],
   "source": [
    "data_out_path = os.path.join(os.getcwd(), './')\n",
    "os.makedirs(data_out_path, exist_ok=True)\n",
    "\n",
    "train_q, train_a, test_q, test_a = load_data()"
   ]
  },
  {
   "cell_type": "markdown",
   "metadata": {},
   "source": [
    "## 2. Tokenizing"
   ]
  },
  {
   "cell_type": "code",
   "execution_count": 3,
   "metadata": {},
   "outputs": [],
   "source": [
    "\"\"\"\n",
    "prepro_noise_canceling(data): \n",
    "텍스트 데이터에 정규화를 사용하여 ([~.,!?\\\"':;)(]) 제거\n",
    "output: ([~.,!?\\\"':;)(]) 제거된 텍스트 데이터\n",
    "\"\"\"\n",
    "\n",
    "def prepro_noise_canceling(data):\n",
    "\n",
    "    CHANGE_FILTER = re.compile(\"([~.,!?\\\"':;)(])\")\n",
    "    #  리스트를 생성합니다.\n",
    "    result_data = list()\n",
    "\n",
    "    for seq in data:\n",
    "        \n",
    "        seq = re.sub(CHANGE_FILTER, \"\", seq)\n",
    "        result_data.append(seq)\n",
    "\n",
    "    return result_data\n",
    "\n",
    "\n",
    "\"\"\"\n",
    "tokenizing_data(data): 텍스트 데이터들 토크나이징\n",
    "input:\n",
    "data: 텍스트 데이터 행렬\n",
    "\n",
    "데이터 노이즈 처리 함수 처리 ->\n",
    "띄어쓰기 단위로 나누기 ->\n",
    "띄어진 단어들 벡터 형성\n",
    "output: [token1, token2, ...]\n",
    "\"\"\"\n",
    "\n",
    "def tokenizing_data(data):\n",
    "    \n",
    "    doc = []\n",
    "    data = prepro_noise_canceling(data)\n",
    "    for sentence in data:\n",
    "        words = []\n",
    "        for word in sentence.split(): \n",
    "            words.append(word)\n",
    "        doc.append(words)\n",
    "    return doc\n",
    "\n",
    "from konlpy.tag import Okt\n"
   ]
  },
  {
   "cell_type": "code",
   "execution_count": 4,
   "metadata": {},
   "outputs": [],
   "source": [
    "token_train_q = tokenizing_data(train_q)\n",
    "token_train_a = tokenizing_data(train_a)\n",
    "token_test_q = tokenizing_data(test_q)\n",
    "token_test_a = tokenizing_data(test_a)"
   ]
  },
  {
   "cell_type": "markdown",
   "metadata": {},
   "source": [
    "## 3. Vocabulary Dictionary"
   ]
  },
  {
   "cell_type": "code",
   "execution_count": 5,
   "metadata": {},
   "outputs": [],
   "source": [
    "\"\"\"\n",
    "load_voc(): 단어 사전 vocabularyData.voc를 생성하고 단어와 인덱스 관계를 출력\n",
    "\n",
    "data_path에서 csv 파일 데이터 읽어오기 ->\n",
    "읽어온 데이터 노이즈 캔슬링 ->\n",
    "데이터 토큰화 ->\n",
    "모든 토큰을 set을 통하여 중복없는 토큰 list 생성 ->\n",
    "패딩 데이터 추가 ->\n",
    "vocabularyData.voc 저장 ->\n",
    "make_voc를 사용하여 각 토큰에 해당되는 인덱스와 인덱스에 해당되는 토큰 데이터 생성\n",
    "\n",
    "output: {token1:index1, token2:index2,...}, {index1:token1, index2:token2,...}, length of voc\n",
    "\"\"\"\n",
    "\n",
    "def load_voc(token_train_q, token_train_a):\n",
    "\n",
    "    voc_list = []\n",
    "    if (not (os.path.exists(DEFINES.vocabulary_path))):\n",
    "\n",
    "        words = []\n",
    "\n",
    "        words.extend(token_train_q)\n",
    "        words.extend(token_train_a)\n",
    "\n",
    "        s = set()\n",
    "        for word in words:\n",
    "            for token in word:\n",
    "                s.add(token)\n",
    "        \n",
    "        words = list(s)\n",
    "       \n",
    "        words[:0] = MARKER\n",
    "        \n",
    "        with open(DEFINES.vocabulary_path, 'w', encoding='utf-8') as voc_file:\n",
    "            for word in words:\n",
    "                voc_file.write(word + '\\n')\n",
    "\n",
    "    with open(DEFINES.vocabulary_path, 'r', encoding='utf-8') as voc_file:\n",
    "        for line in voc_file:\n",
    "            voc_list.append(line.strip())\n",
    "\n",
    "    char2idx, idx2char = make_voc(voc_list)\n",
    "\n",
    "    return char2idx, idx2char, len(char2idx)\n",
    "\n",
    "\"\"\"\n",
    "make_voc(voc_list): 사전 리스트를 받아 인덱스와 토큰의 dictionary를 생성\n",
    "\n",
    "output: {token1:index1, token2:index2,...}, {index1:token1, index2:token2,...}\n",
    "\"\"\"\n",
    "\n",
    "def make_voc(voc_list):\n",
    "\n",
    "    char2idx = {char: idx for idx, char in enumerate(voc_list)}\n",
    "    idx2char = {idx: char for idx, char in enumerate(voc_list)}\n",
    "    return char2idx, idx2char"
   ]
  },
  {
   "cell_type": "code",
   "execution_count": 6,
   "metadata": {},
   "outputs": [],
   "source": [
    "char2idx, idx2char, vocabulary_length = load_voc(token_train_q, token_train_a)"
   ]
  },
  {
   "cell_type": "markdown",
   "metadata": {},
   "source": [
    "## 4. Input for Encoder "
   ]
  },
  {
   "cell_type": "code",
   "execution_count": 7,
   "metadata": {},
   "outputs": [],
   "source": [
    "\n",
    "\"\"\"\n",
    "enc_processing(tokens, dictionary): 인코더용 입력값 생성 함수\n",
    "텍스트 데이터 -> 인덱스 벡터화 및 길이\n",
    "input:\n",
    "tokens: 텍스트 문장들 데이터\n",
    "dictionary: 값이 인덱스인 단어 사전\n",
    "\n",
    "tokens 값 노이즈 캔슬링 ->\n",
    "문장 단위로 나누기 ->\n",
    "문장을 토큰 단위로 나누기 ->\n",
    "dictionary를 활용하여 토큰 인덱스화 ->\n",
    "dictionary 없는 토큰의 경우 unk값으로 대체 ->\n",
    "기준 문장 길이 보다 크게 된다면 뒤의 토큰 자르기 ->\n",
    "기준 문장 길이에 맞게 남은 공간에 padding ->\n",
    "문장 인덱스와 문장 길이 계산\n",
    "output: 넘파이 문장 인덱스 벡터, 문장 길이 \n",
    "\"\"\"\n",
    "\n",
    "def enc_input(tokens, dictionary):\n",
    "    \n",
    "    seq_input_index = []\n",
    "    \n",
    "    seq_len = []\n",
    "\n",
    "    for seq in tokens:\n",
    "        \n",
    "        seq_index = []\n",
    "\n",
    "        for token in seq:\n",
    "\n",
    "            if dictionary.get(token) is not None:\n",
    "                seq_index.extend([dictionary[token]])\n",
    "\n",
    "            else:\n",
    "                seq_index.extend([dictionary[UNK]])\n",
    "        if len(seq_index) > DEFINES.max_sequence_length:\n",
    "            seq_index = seq_index[:DEFINES.max_sequence_length]\n",
    "\n",
    "        seq_len.append(len(seq_index))\n",
    "\n",
    "        seq_index += (DEFINES.max_sequence_length - len(seq_index)) * [dictionary[PAD]]\n",
    "\n",
    "        seq_input_index.append(seq_index)\n",
    "\n",
    "    return np.asarray(seq_input_index)\n"
   ]
  },
  {
   "cell_type": "code",
   "execution_count": 8,
   "metadata": {},
   "outputs": [],
   "source": [
    "train_input_enc = enc_input(token_train_q, char2idx)"
   ]
  },
  {
   "cell_type": "markdown",
   "metadata": {},
   "source": [
    "## 5. Input for Decoder"
   ]
  },
  {
   "cell_type": "code",
   "execution_count": 15,
   "metadata": {},
   "outputs": [],
   "source": [
    "\"\"\"\n",
    "dec_input(tokens, dictionary): 디코더용 입력값 생성 함수\n",
    "텍스트 데이터 -> 인덱스 벡터화 및 길이\n",
    "input:\n",
    "tokens: 텍스트 문장들 데이터\n",
    "dictionary: 값이 인덱스인 단어 사전\n",
    "\n",
    "tokens 값 노이즈 캔슬링 ->\n",
    "문장 단위로 나누기 ->\n",
    "문장을 토큰 단위로 나누기 ->\n",
    "dictionary를 활용하여 토큰 인덱스화 ->\n",
    "인덱스 앞에 STD 추가 ->\n",
    "기준 문장 길이 보다 크게 된다면 뒤의 토큰 자르기 ->\n",
    "기준 문장 길이에 맞게 남은 공간에 padding ->\n",
    "문장 인덱스와 문장 길이 계산\n",
    "output: 넘파이 문장 인덱스 벡터, 문장 길이 \n",
    "\"\"\"\n",
    "\n",
    "\n",
    "def dec_input(tokens, dictionary):\n",
    "\n",
    "    seq_input_index = []\n",
    "\n",
    "    seq_len = []\n",
    "\n",
    "    for seq in tokens:\n",
    "\n",
    "        seq_index = []\n",
    "\n",
    "        for token in seq:\n",
    "            if dictionary.get(token) is not None:\n",
    "                seq_index.extend([dictionary[token]])\n",
    "            else:\n",
    "                seq_index.extend([dictionary[UNK]])\n",
    "        seq_index = [dictionary[STD]] + seq_index\n",
    "        \n",
    "        if len(seq_index) > DEFINES.max_sequence_length:\n",
    "            seq_index = seq_index[:DEFINES.max_sequence_length]\n",
    "        seq_len.append(len(seq_index))\n",
    "        seq_index += (DEFINES.max_sequence_length - len(seq_index)) * [dictionary[PAD]]\n",
    "        seq_input_index.append(seq_index)\n",
    "\n",
    "    return np.asarray(seq_input_index)\n",
    "\n",
    "\"\"\"\n",
    "dec_target_processing(value, dictionary): 디코더용 입력값 생성 함수\n",
    "텍스트 데이터 -> 인덱스 벡터화 및 길이\n",
    "input:\n",
    "value: 텍스트 문장들 데이터\n",
    "dictionary: 값이 인덱스인 단어 사전\n",
    "\n",
    "value 값 노이즈 캔슬링 ->\n",
    "문장 단위로 나누기 ->\n",
    "문장을 토큰 단위로 나누기 ->\n",
    "dictionary를 활용하여 토큰 인덱스화 ->\n",
    "기준 문장 길이 보다 크게 된다면 뒤의 토큰 자르기 ->\n",
    "인덱스 뒤에 END 추가 ->\n",
    "기준 문장 길이에 맞게 남은 공간에 padding ->\n",
    "문장 인덱스와 문장 길이 계산\n",
    "output: 넘파이 문장 인덱스 벡터, 문장 길이 \n",
    "\"\"\"\n",
    "\n",
    "def dec_target(tokens, dictionary):\n",
    "    \n",
    "    seq_target_index = []\n",
    "    \n",
    "    for seq in tokens:\n",
    "        \n",
    "        seq_index = []\n",
    "        \n",
    "        for token in seq:\n",
    "           \n",
    "            if dictionary.get(token) is not None:\n",
    "                seq_index.extend([dictionary[token]])\n",
    "            \n",
    "            else:\n",
    "                seq_index.extend([dictionary[UNK]])\n",
    "        \n",
    "        if len(seq_index) >= DEFINES.max_sequence_length:\n",
    "            seq_index = seq_index[:DEFINES.max_sequence_length - 1] + [dictionary[END]]\n",
    "        else:\n",
    "            seq_index += [dictionary[END]]\n",
    "        \n",
    "        seq_index += (DEFINES.max_sequence_length - len(seq_index)) * [dictionary[PAD]]\n",
    "        \n",
    "        seq_target_index.append(seq_index)\n",
    "    \n",
    "    return np.asarray(seq_target_index)\n"
   ]
  },
  {
   "cell_type": "code",
   "execution_count": 17,
   "metadata": {},
   "outputs": [],
   "source": [
    "train_input_dec = dec_input(token_train_a, char2idx)\n",
    "train_target_dec = dec_target(token_train_a, char2idx)\n",
    "test_input_enc = enc_input(token_test_q, char2idx)\n",
    "test_input_dec = dec_input(token_test_a, char2idx)\n",
    "test_target_dec = dec_target(token_test_a, char2idx)"
   ]
  },
  {
   "cell_type": "markdown",
   "metadata": {},
   "source": [
    "## 6. Model Setting"
   ]
  },
  {
   "cell_type": "code",
   "execution_count": 18,
   "metadata": {},
   "outputs": [],
   "source": [
    "check_point_path = os.path.join(os.getcwd(), DEFINES.check_point_path)\n",
    "os.makedirs(check_point_path, exist_ok=True)"
   ]
  },
  {
   "cell_type": "code",
   "execution_count": 19,
   "metadata": {},
   "outputs": [
    {
     "name": "stdout",
     "output_type": "stream",
     "text": [
      "INFO:tensorflow:Using default config.\n",
      "INFO:tensorflow:Using config: {'_model_dir': './data_out/check_point', '_tf_random_seed': None, '_save_summary_steps': 100, '_save_checkpoints_steps': None, '_save_checkpoints_secs': 600, '_session_config': allow_soft_placement: true\n",
      "graph_options {\n",
      "  rewrite_options {\n",
      "    meta_optimizer_iterations: ONE\n",
      "  }\n",
      "}\n",
      ", '_keep_checkpoint_max': 5, '_keep_checkpoint_every_n_hours': 10000, '_log_step_count_steps': 100, '_train_distribute': None, '_device_fn': None, '_protocol': None, '_eval_distribute': None, '_experimental_distribute': None, '_service': None, '_cluster_spec': <tensorflow.python.training.server_lib.ClusterSpec object at 0x000001F0D8C8B588>, '_task_type': 'worker', '_task_id': 0, '_global_id_in_cluster': 0, '_master': '', '_evaluation_master': '', '_is_chief': True, '_num_ps_replicas': 0, '_num_worker_replicas': 1}\n"
     ]
    }
   ],
   "source": [
    "import model as ml\n",
    "\n",
    "# 에스티메이터 구성\n",
    "classifier = tf.estimator.Estimator(\n",
    "        model_fn=ml.model, # 모델 등록한다.\n",
    "        model_dir=DEFINES.check_point_path, \n",
    "        params={\n",
    "            'hidden_size': DEFINES.hidden_size, \n",
    "            'layer_size': DEFINES.layer_size, \n",
    "            'learning_rate': DEFINES.learning_rate, \n",
    "            'vocabulary_length': vocabulary_length, \n",
    "            'embedding_size': DEFINES.embedding_size, \n",
    "        })"
   ]
  },
  {
   "cell_type": "code",
   "execution_count": 20,
   "metadata": {},
   "outputs": [],
   "source": [
    "# input과 output dictionary를 만드는 함수\n",
    "def in_out_dict(input, output, target):\n",
    "    features = {\"input\": input, \"output\": output}\n",
    "    return features, target\n",
    "\n",
    "# 학습용 배치 데이터를 만드는 함수\n",
    "def train_input_fn(train_input_enc, train_input_dec, train_target_dec, batch_size):\n",
    "    dataset = tf.data.Dataset.from_tensor_slices((train_input_enc, train_input_dec, train_target_dec))\n",
    "    dataset = dataset.shuffle(buffer_size=len(train_input_enc))\n",
    "    assert batch_size is not None, \"train batchSize must not be None\"\n",
    "    dataset = dataset.batch(batch_size)\n",
    "    dataset = dataset.map(in_out_dict)\n",
    "    dataset = dataset.repeat()\n",
    "    iterator = dataset.make_one_shot_iterator()\n",
    "    return iterator.get_next()\n",
    "\n",
    "\n",
    "# 평가용 배치 데이터를 만드는 함수\n",
    "def test_input_fn(test_input_enc, test_input_dec, test_target_dec, batch_size):\n",
    "    dataset = tf.data.Dataset.from_tensor_slices((test_input_enc, test_input_dec, test_target_dec))\n",
    "    dataset = dataset.shuffle(buffer_size=len(test_input_enc))\n",
    "    assert batch_size is not None, \"eval batchSize must not be None\"\n",
    "    dataset = dataset.batch(batch_size)\n",
    "    dataset = dataset.map(in_out_dict)\n",
    "    dataset = dataset.repeat(1)\n",
    "    iterator = dataset.make_one_shot_iterator()\n",
    "    return iterator.get_next()"
   ]
  },
  {
   "cell_type": "markdown",
   "metadata": {},
   "source": [
    "## 7. Training"
   ]
  },
  {
   "cell_type": "code",
   "execution_count": null,
   "metadata": {},
   "outputs": [],
   "source": [
    "classifier.train(input_fn=lambda: train_input_fn(\n",
    "        train_input_enc, train_input_dec, train_target_dec, DEFINES.batch_size), steps=DEFINES.train_steps)"
   ]
  },
  {
   "cell_type": "markdown",
   "metadata": {},
   "source": [
    "## 8. Accuracy"
   ]
  },
  {
   "cell_type": "code",
   "execution_count": 21,
   "metadata": {},
   "outputs": [
    {
     "name": "stdout",
     "output_type": "stream",
     "text": [
      "WARNING:tensorflow:From C:\\Users\\DELL\\Anaconda3\\lib\\site-packages\\tensorflow\\python\\framework\\op_def_library.py:263: colocate_with (from tensorflow.python.framework.ops) is deprecated and will be removed in a future version.\n",
      "Instructions for updating:\n",
      "Colocations handled automatically by placer.\n",
      "INFO:tensorflow:Calling model_fn.\n",
      "\n",
      "WARNING: The TensorFlow contrib module will not be included in TensorFlow 2.0.\n",
      "For more information, please see:\n",
      "  * https://github.com/tensorflow/community/blob/master/rfcs/20180907-contrib-sunset.md\n",
      "  * https://github.com/tensorflow/addons\n",
      "If you depend on functionality not listed there, please file an issue.\n",
      "\n",
      "WARNING:tensorflow:From C:\\Users\\DELL\\Downloads\\seq2seq_attention\\model.py:39: BasicLSTMCell.__init__ (from tensorflow.python.ops.rnn_cell_impl) is deprecated and will be removed in a future version.\n",
      "Instructions for updating:\n",
      "This class is equivalent as tf.keras.layers.LSTMCell, and will be replaced by that in Tensorflow 2.0.\n",
      "WARNING:tensorflow:<tensorflow.python.ops.rnn_cell_impl.BasicLSTMCell object at 0x000001F0DAD84D30>: Using a concatenated state is slower and will soon be deprecated.  Use state_is_tuple=True.\n",
      "WARNING:tensorflow:From C:\\Users\\DELL\\Downloads\\seq2seq_attention\\model.py:77: MultiRNNCell.__init__ (from tensorflow.python.ops.rnn_cell_impl) is deprecated and will be removed in a future version.\n",
      "Instructions for updating:\n",
      "This class is equivalent as tf.keras.layers.StackedRNNCells, and will be replaced by that in Tensorflow 2.0.\n",
      "WARNING:tensorflow:From C:\\Users\\DELL\\Downloads\\seq2seq_attention\\model.py:85: dynamic_rnn (from tensorflow.python.ops.rnn) is deprecated and will be removed in a future version.\n",
      "Instructions for updating:\n",
      "Please use `keras.layers.RNN(cell)`, which is equivalent to this API\n",
      "WARNING:tensorflow:<tensorflow.python.ops.rnn_cell_impl.BasicLSTMCell object at 0x000001F0DAD84D68>: Using a concatenated state is slower and will soon be deprecated.  Use state_is_tuple=True.\n",
      "WARNING:tensorflow:From C:\\Users\\DELL\\Anaconda3\\lib\\site-packages\\tensorflow\\python\\keras\\layers\\core.py:143: calling dropout (from tensorflow.python.ops.nn_ops) with keep_prob is deprecated and will be removed in a future version.\n",
      "Instructions for updating:\n",
      "Please use `rate` instead of `keep_prob`. Rate should be set to `rate = 1 - keep_prob`.\n",
      "WARNING:tensorflow:From C:\\Users\\DELL\\Downloads\\seq2seq_attention\\model.py:119: dense (from tensorflow.python.layers.core) is deprecated and will be removed in a future version.\n",
      "Instructions for updating:\n",
      "Use keras.layers.dense instead.\n",
      "WARNING:tensorflow:From C:\\Users\\DELL\\Anaconda3\\lib\\site-packages\\tensorflow\\python\\ops\\metrics_impl.py:455: to_float (from tensorflow.python.ops.math_ops) is deprecated and will be removed in a future version.\n",
      "Instructions for updating:\n",
      "Use tf.cast instead.\n",
      "INFO:tensorflow:Done calling model_fn.\n",
      "INFO:tensorflow:Starting evaluation at 2019-10-02T05:43:55Z\n",
      "INFO:tensorflow:Graph was finalized.\n",
      "WARNING:tensorflow:From C:\\Users\\DELL\\Anaconda3\\lib\\site-packages\\tensorflow\\python\\training\\saver.py:1266: checkpoint_exists (from tensorflow.python.training.checkpoint_management) is deprecated and will be removed in a future version.\n",
      "Instructions for updating:\n",
      "Use standard file APIs to check for files with this prefix.\n",
      "INFO:tensorflow:Restoring parameters from ./data_out/check_point\\model.ckpt-10000\n",
      "INFO:tensorflow:Running local_init_op.\n",
      "INFO:tensorflow:Done running local_init_op.\n",
      "INFO:tensorflow:Finished evaluation at 2019-10-02-05:44:27\n",
      "INFO:tensorflow:Saving dict for global step 10000: accuracy = 0.7291133, global_step = 10000, loss = 5.5566945\n",
      "INFO:tensorflow:Saving 'checkpoint_path' summary for global step 10000: ./data_out/check_point\\model.ckpt-10000\n",
      "\n",
      "EVAL set accuracy: 0.729\n",
      "\n"
     ]
    }
   ],
   "source": [
    "test_result = classifier.evaluate(input_fn=lambda: test_input_fn(\n",
    "        test_input_enc, test_input_dec, test_target_dec, DEFINES.batch_size))\n",
    "\n",
    "print('\\nEVAL set accuracy: {accuracy:0.3f}\\n'.format(**test_result))"
   ]
  },
  {
   "cell_type": "markdown",
   "metadata": {},
   "source": [
    "## 9. Prediction"
   ]
  },
  {
   "cell_type": "code",
   "execution_count": 22,
   "metadata": {},
   "outputs": [],
   "source": [
    "predic_input_enc = enc_input([\"가끔 궁금해\"], char2idx)\n",
    "predic_input_dec = dec_input([\"\"], char2idx)\n",
    "predic_target_dec = dec_target([\"\"], char2idx)"
   ]
  },
  {
   "cell_type": "code",
   "execution_count": 23,
   "metadata": {},
   "outputs": [],
   "source": [
    "\"\"\"\n",
    "pred_next_string(value, dictionary): 예측용 단어 인덱스를 문장으로 변환하는 함수\n",
    "input:\n",
    "value: 텍스트 문장들 데이터\n",
    "dictionary: 값이 인덱스인 단어 사전\n",
    "\n",
    "단어 사전을 이용하여 각 인덱스의 해당되는 단어로 문장 형성->\n",
    "패딩 값은 스페이스 처리 ->\n",
    "END가 들어가면 출력완료 값 = True\n",
    "\n",
    "output: 변환된 문장, 출력완료 boolean값\n",
    "\"\"\"\n",
    "\n",
    "def pred_next_string(tokens, dictionary):\n",
    "\n",
    "    sentence_string = []\n",
    "\n",
    "    for token in tokens:\n",
    "        sentence_string = [dictionary[index] for index in token['indexs']]\n",
    "    print(sentence_string)\n",
    "    answer = \"\"\n",
    "\n",
    "    for word in sentence_string:\n",
    "        if word not in PAD and word not in END:\n",
    "            answer += word\n",
    "            answer += \" \"\n",
    "\n",
    "    print(answer)\n",
    "    return answer"
   ]
  },
  {
   "cell_type": "code",
   "execution_count": 24,
   "metadata": {},
   "outputs": [
    {
     "name": "stdout",
     "output_type": "stream",
     "text": [
      "INFO:tensorflow:Calling model_fn.\n",
      "WARNING:tensorflow:<tensorflow.python.ops.rnn_cell_impl.BasicLSTMCell object at 0x000001F080432630>: Using a concatenated state is slower and will soon be deprecated.  Use state_is_tuple=True.\n",
      "WARNING:tensorflow:<tensorflow.python.ops.rnn_cell_impl.BasicLSTMCell object at 0x000001F080416FD0>: Using a concatenated state is slower and will soon be deprecated.  Use state_is_tuple=True.\n",
      "INFO:tensorflow:Done calling model_fn.\n",
      "INFO:tensorflow:Graph was finalized.\n",
      "INFO:tensorflow:Restoring parameters from ./data_out/check_point\\model.ckpt-10000\n",
      "INFO:tensorflow:Running local_init_op.\n",
      "INFO:tensorflow:Done running local_init_op.\n",
      "['0칼로리', '병원', '<END>', '<PAD>', '<PAD>', '<PAD>', '<PAD>', '<PAD>', '<PAD>', '<PAD>', '<PAD>', '<PAD>', '<PAD>', '<PAD>', '<PAD>', '<PAD>', '<PAD>', '<PAD>', '<PAD>', '<PAD>']\n",
      "0칼로리 병원 \n",
      "answer:  0칼로리 병원 \n"
     ]
    }
   ],
   "source": [
    "predictions = classifier.predict(\n",
    "        input_fn=lambda: test_input_fn(predic_input_enc, predic_input_dec, predic_target_dec, DEFINES.batch_size))\n",
    "\n",
    "answer = pred_next_string(predictions, idx2char)\n",
    "\n",
    "print(\"answer: \", answer)\n",
    "    "
   ]
  },
  {
   "cell_type": "markdown",
   "metadata": {},
   "source": [
    "## 10. Evaluation"
   ]
  },
  {
   "cell_type": "code",
   "execution_count": 18,
   "metadata": {},
   "outputs": [],
   "source": [
    "from nltk.translate.bleu_score import sentence_bleu\n",
    "from nltk.translate.bleu_score import SmoothingFunction\n",
    "from rouge import Rouge\n",
    "\n",
    "# bleu score 계산 함수\n",
    "def bleu_compute(ground_truth_utter, answer_sample):\n",
    "    ground_truth_utter_list = ground_truth_utter.split()\n",
    "    answer_sample_list = answer_sample.split()\n",
    "    return sentence_bleu([ground_truth_utter_list], answer_sample_list, smoothing_function=SmoothingFunction().method7,\n",
    "                         weights=[1./3, 1./3, 1./3])\n",
    "\n",
    "# rouge score 계산 함수\n",
    "def rouge_compute(ground_truth_utter, answer_sample):\n",
    "    rouge = Rouge()\n",
    "    scores = rouge.get_scores(ground_truth_utter, answer_sample)\n",
    "    return np.array([scores[0][\"rouge-l\"][\"p\"], scores[0][\"rouge-l\"][\"r\"], scores[0][\"rouge-l\"][\"f\"]])"
   ]
  },
  {
   "cell_type": "code",
   "execution_count": 21,
   "metadata": {},
   "outputs": [
    {
     "name": "stdout",
     "output_type": "stream",
     "text": [
      "Bleu score:  1.013978363419326\n",
      "Rouge score:  [1. 1. 1.]\n"
     ]
    }
   ],
   "source": [
    "print(\"Bleu score: \", bleu_compute(\"그 사람도 그럴 거예요\", answer))\n",
    "print(\"Rouge score: \", rouge_compute(\"그 사람도 그럴 거예요\", answer))"
   ]
  },
  {
   "cell_type": "code",
   "execution_count": 30,
   "metadata": {},
   "outputs": [
    {
     "data": {
      "text/plain": [
       "['너무 힘든데',\n",
       " '툭하면 헤어지자라는 말을 하는 사람',\n",
       " '헤어지신 남자분들이나 여자분들',\n",
       " '단둘이는 처음 만나는 날ㅋㅋ',\n",
       " '쌈은 뭐야',\n",
       " '그림 잘 그리고 싶다',\n",
       " '무슨마음일까',\n",
       " '신기해',\n",
       " '많이 힘드네',\n",
       " '머리 용량 초과']"
      ]
     },
     "execution_count": 30,
     "metadata": {},
     "output_type": "execute_result"
    }
   ],
   "source": [
    "train_q[10:20]"
   ]
  },
  {
   "cell_type": "code",
   "execution_count": 31,
   "metadata": {},
   "outputs": [
    {
     "data": {
      "text/plain": [
       "['조금만 더 버텨보세요.',\n",
       " '서운한 마음을 충분히 전하는게 좋겠어요.',\n",
       " '누구든 힘들어할 거예요.',\n",
       " '서로를 아는 좋은 기회가 되겠네요.',\n",
       " '썸 타다가 발전되지 못한 관계죠.',\n",
       " '학원을 다니거나 연습하면 잘할 수 있을 거예요.',\n",
       " '사람 마을은 알기 힘들어요.',\n",
       " '그게 인생이죠.',\n",
       " '그 과정을 통해 성장할 수 있을 거예요.',\n",
       " '눈을 감고 명상을 해보세요.']"
      ]
     },
     "execution_count": 31,
     "metadata": {},
     "output_type": "execute_result"
    }
   ],
   "source": [
    "train_a[10:20]"
   ]
  }
 ],
 "metadata": {
  "kernelspec": {
   "display_name": "Python 3",
   "language": "python",
   "name": "python3"
  },
  "language_info": {
   "codemirror_mode": {
    "name": "ipython",
    "version": 3
   },
   "file_extension": ".py",
   "mimetype": "text/x-python",
   "name": "python",
   "nbconvert_exporter": "python",
   "pygments_lexer": "ipython3",
   "version": "3.7.3"
  }
 },
 "nbformat": 4,
 "nbformat_minor": 2
}
