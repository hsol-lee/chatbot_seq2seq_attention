{
 "cells": [
  {
   "cell_type": "code",
   "execution_count": 1,
   "metadata": {},
   "outputs": [
    {
     "name": "stdout",
     "output_type": "stream",
     "text": [
      "0.5.1\n"
     ]
    }
   ],
   "source": [
    "import konlpy\n",
    "from konlpy.tag import Kkma, Okt, Komoran\n",
    "from pprint import pprint\n",
    "\n",
    "print(konlpy.__version__)"
   ]
  },
  {
   "cell_type": "code",
   "execution_count": null,
   "metadata": {},
   "outputs": [],
   "source": []
  },
  {
   "cell_type": "code",
   "execution_count": 3,
   "metadata": {},
   "outputs": [],
   "source": [
    "sent = '이건 테스트 문장입니다'\n",
    "kkma = Kkma()\n",
    "twitter = Okt()\n",
    "komoran = Komoran()\n",
    "\n",
    "taggers = [kkma, twitter, komoran]\n",
    "names = 'kkma twitter komoran'.split()\n",
    "for tagger in taggers:\n",
    "    poses = tagger.pos(sent)"
   ]
  },
  {
   "cell_type": "code",
   "execution_count": 5,
   "metadata": {},
   "outputs": [
    {
     "data": {
      "text/plain": [
       "[('이건', 'NNP'), ('테스트', 'NNP'), ('문장', 'NNG'), ('이', 'VCP'), ('ㅂ니다', 'EC')]"
      ]
     },
     "execution_count": 5,
     "metadata": {},
     "output_type": "execute_result"
    }
   ],
   "source": [
    "komoran.pos(sent)"
   ]
  },
  {
   "cell_type": "code",
   "execution_count": 6,
   "metadata": {},
   "outputs": [
    {
     "data": {
      "text/plain": [
       "['이건', '테스트', '문장']"
      ]
     },
     "execution_count": 6,
     "metadata": {},
     "output_type": "execute_result"
    }
   ],
   "source": [
    "komoran.nouns(sent)"
   ]
  },
  {
   "cell_type": "code",
   "execution_count": 7,
   "metadata": {},
   "outputs": [
    {
     "data": {
      "text/plain": [
       "{'EC': '연결 어미',\n",
       " 'EF': '종결 어미',\n",
       " 'EP': '선어말어미',\n",
       " 'ETM': '관형형 전성 어미',\n",
       " 'ETN': '명사형 전성 어미',\n",
       " 'IC': '감탄사',\n",
       " 'JC': '접속 조사',\n",
       " 'JKB': '부사격 조사',\n",
       " 'JKC': '보격 조사',\n",
       " 'JKG': '관형격 조사',\n",
       " 'JKO': '목적격 조사',\n",
       " 'JKQ': '인용격 조사',\n",
       " 'JKS': '주격 조사',\n",
       " 'JKV': '호격 조사',\n",
       " 'JX': '보조사',\n",
       " 'MAG': '일반 부사',\n",
       " 'MAJ': '접속 부사',\n",
       " 'MM': '관형사',\n",
       " 'NA': '분석불능범주',\n",
       " 'NF': '명사추정범주',\n",
       " 'NNB': '의존 명사',\n",
       " 'NNG': '일반 명사',\n",
       " 'NNP': '고유 명사',\n",
       " 'NP': '대명사',\n",
       " 'NR': '수사',\n",
       " 'NV': '용언추정범주',\n",
       " 'SE': '줄임표',\n",
       " 'SF': '마침표, 물음표, 느낌표',\n",
       " 'SH': '한자',\n",
       " 'SL': '외국어',\n",
       " 'SN': '숫자',\n",
       " 'SO': '붙임표(물결,숨김,빠짐)',\n",
       " 'SP': '쉼표,가운뎃점,콜론,빗금',\n",
       " 'SS': '따옴표,괄호표,줄표',\n",
       " 'SW': '기타기호 (논리수학기호,화폐기호)',\n",
       " 'VA': '형용사',\n",
       " 'VCN': '부정 지정사',\n",
       " 'VCP': '긍정 지정사',\n",
       " 'VV': '동사',\n",
       " 'VX': '보조 용언',\n",
       " 'XPN': '체언 접두사',\n",
       " 'XR': '어근',\n",
       " 'XSA': '형용사 파생 접미사',\n",
       " 'XSN': '명사파생 접미사',\n",
       " 'XSV': '동사 파생 접미사'}"
      ]
     },
     "execution_count": 7,
     "metadata": {},
     "output_type": "execute_result"
    }
   ],
   "source": [
    "komoran.tagset"
   ]
  },
  {
   "cell_type": "code",
   "execution_count": 8,
   "metadata": {},
   "outputs": [
    {
     "data": {
      "text/plain": [
       "{'Adjective': '형용사',\n",
       " 'Adverb': '부사',\n",
       " 'Alpha': '알파벳',\n",
       " 'Conjunction': '접속사',\n",
       " 'Determiner': '관형사',\n",
       " 'Eomi': '어미',\n",
       " 'Exclamation': '감탄사',\n",
       " 'Foreign': '외국어, 한자 및 기타기호',\n",
       " 'Hashtag': '트위터 해쉬태그',\n",
       " 'Josa': '조사',\n",
       " 'KoreanParticle': '(ex: ㅋㅋ)',\n",
       " 'Noun': '명사',\n",
       " 'Number': '숫자',\n",
       " 'PreEomi': '선어말어미',\n",
       " 'Punctuation': '구두점',\n",
       " 'ScreenName': '트위터 아이디',\n",
       " 'Suffix': '접미사',\n",
       " 'Unknown': '미등록어',\n",
       " 'Verb': '동사'}"
      ]
     },
     "execution_count": 8,
     "metadata": {},
     "output_type": "execute_result"
    }
   ],
   "source": [
    "twitter.tagset"
   ]
  },
  {
   "cell_type": "code",
   "execution_count": 9,
   "metadata": {},
   "outputs": [],
   "source": [
    "sents = ['경찰이 승리의 성접대 의혹 수사에 속도를 내고 있다. 이에 따라 승리의 입영 연기가 정상적으로 이뤄질 수 있을지 귀추가 주목된다.',\n",
    "        '경찰 관계자는 18일 승리 성매매 알선 혐의에 대해 \"나름대로 의미있는 진술을 확보했다\"며 \"해외 성매매 알선이나 도박 등 의혹도 들여다보고 있다\"고 밝혔다.',\n",
    "        '경찰은 또 유착 의혹이 제기된 현직 총경과의 식사 자리 등에 함께한 사실도 확인해 연루 의혹도 조사하고 있다.',\n",
    "        '승리는 이날 입영 연기 신청서를 제출할 계획이다. ',\n",
    "        '승리는 지난 15일 서울지방경찰청에서 조사를 마치고 나온 후 \"정식으로 병무청에 입영 연기를 신청할 생각이다. 허락만 해주신다면 입영 날짜를 연기하고 마지막까지 성실하게 조사받는 모습을 보여드리도록 하겠다\"고 밝힌 바 있다.',\n",
    "        '당초 승리는 25일 충남 논산 훈련소로 입소할 예정이었으나, 버닝썬 폭행 사건에서 시작된 마약, 성매매 알선, 도박, 몰카 의혹 등으로까지 번진 이번 사태에 대해 책임지고 경찰 조사에 임하겠다는 입장이다.',\n",
    "        '이에 병무청은 병역법 시행령 제129조 제1항에 따라 연기 여부를 검토할 예정이라며 \"수사중인 이유로 입영일자 연기를 신청하여 허가한 사례가 있습니다\"라고 전했다.',\n",
    "        '이와 관련, 경찰 관계자는 \"군에 가든 안 가든 엄정 수사할 것이다. 수사하는 데 전혀 문제는 없다고 본다\"고 강조했다. ',\n",
    "        '이 뿐만 아니라 서울지방경찰청 광역수사대는 승리 등이 밀땅포차와 몽키뮤지엄을 운영하면서 탈세한 정황을 포착, 구체적인 사실관계를 파악 중이라고 밝혔다.'\n",
    "        ]"
   ]
  },
  {
   "cell_type": "code",
   "execution_count": 10,
   "metadata": {},
   "outputs": [
    {
     "name": "stdout",
     "output_type": "stream",
     "text": [
      "kkma    : 0.982 secs\n",
      "twitter : 0.366 secs\n",
      "komoran : 0.081 secs\n"
     ]
    }
   ],
   "source": [
    "import time\n",
    "\n",
    "tokens = []\n",
    "\n",
    "for name, tagger in zip(names, taggers):\n",
    "\n",
    "    t = time.time()    \n",
    "    tokens.append(\n",
    "        [pos for sent in sents for pos in tagger.pos(sent)]\n",
    "    )\n",
    "    t = time.time() - t\n",
    "\n",
    "    print('{:8}: {:.3f} secs'.format(name, t))"
   ]
  },
  {
   "cell_type": "code",
   "execution_count": 11,
   "metadata": {},
   "outputs": [
    {
     "name": "stdout",
     "output_type": "stream",
     "text": [
      "[('경찰', 'NNG'),\n",
      " ('이', 'JKS'),\n",
      " ('승리', 'NNG'),\n",
      " ('의', 'JKG'),\n",
      " ('성', 'NNG'),\n",
      " ('접대', 'NNG'),\n",
      " ('의혹', 'NNG'),\n",
      " ('수사', 'NNG'),\n",
      " ('에', 'JKM'),\n",
      " ('속도', 'NNG'),\n",
      " ('를', 'JKO'),\n",
      " ('내', 'VV'),\n",
      " ('고', 'ECE'),\n",
      " ('있', 'VXV'),\n",
      " ('다', 'EFN')]\n"
     ]
    }
   ],
   "source": [
    "pprint(tokens[0][:15])"
   ]
  },
  {
   "cell_type": "code",
   "execution_count": null,
   "metadata": {},
   "outputs": [],
   "source": []
  },
  {
   "cell_type": "code",
   "execution_count": null,
   "metadata": {},
   "outputs": [],
   "source": []
  }
 ],
 "metadata": {
  "kernelspec": {
   "display_name": "Python 3",
   "language": "python",
   "name": "python3"
  },
  "language_info": {
   "codemirror_mode": {
    "name": "ipython",
    "version": 3
   },
   "file_extension": ".py",
   "mimetype": "text/x-python",
   "name": "python",
   "nbconvert_exporter": "python",
   "pygments_lexer": "ipython3",
   "version": "3.7.1"
  }
 },
 "nbformat": 4,
 "nbformat_minor": 2
}
